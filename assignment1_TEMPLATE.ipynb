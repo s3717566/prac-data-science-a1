{
 "cells": [
  {
   "cell_type": "markdown",
   "metadata": {
    "id": "u-EEv9utoT69"
   },
   "source": [
    "# Task 1: Data Preparation\n",
    "\n",
    "You will start by loading the CSV data from the file (using appropriate pandas functions) and checking whether the loaded data is equivalent to the data in the source CSV file.\n",
    "\n",
    "Then, you need to clean the data by using the knowledge we taught in the lectures. You need to deal with all the potential issues/errors in the data appropriately.\n",
    "\n",
    "###### (Please note that this is just a sample template, and please feel free to add more cells to complete of the sub-tasks in the assignment. The following existing cells are for example purposes only.)"
   ]
  },
  {
   "cell_type": "code",
   "execution_count": 1,
   "metadata": {
    "id": "Qykq4YuQtZUS"
   },
   "outputs": [],
   "source": [
    "# Import pandas library\n",
    "import pandas as pd\n",
    "import numpy as np\n",
    "import math\n",
    "import matplotlib.pyplot as plt"
   ]
  },
  {
   "cell_type": "code",
   "execution_count": 2,
   "metadata": {
    "id": "RhLG8LgxsFd7"
   },
   "outputs": [
    {
     "data": {
      "text/plain": "      Rk             Player Pos  Age    Tm   G  GS    MP   FG  FGA  ...  \\\n0      1   Precious Achiuwa  PF   21   MIA  35   2   491   84  145  ...   \n1      2       Jaylen Adams  PG   24   MIL   7   0    18    1    8  ...   \n2      3       Steven Adams   C   27   NOP  33  33   918  115  187  ...   \n3      4        Bam Adebayo   C   23   MIA  33  33  1119  236  419  ...   \n4      5  LaMarcus Aldridge   C   35  SAS   21  18   544  115  248  ...   \n..   ...                ...  ..  ...   ...  ..  ..   ...  ...  ...  ...   \n507  488       Delon Wright  SG   28   DET  29  24   848  110  235  ...   \n508  489     Thaddeus Young  PF   32   CHI  30   0   760  167  274  ...   \n509  490         Trae Young  PG   22   ATL  34  34  1182  262  610  ...   \n510  491        Cody Zeller   C   28   CHO  18  15   421   73  142  ...   \n511  492        Ivica Zubac   C   23   LAC  38   1   753  120  182  ...   \n\n       FT%  ORB  DRB  TRB  AST  STL  BLK  TOV   PF    PTS  \n0    0.543   46   95  141   20   15   19   32   58    212  \n1      NaN    0    3    3    2    0    0    0    1  20000  \n2    0.443  133  161  294   69   29   20   50   63    265  \n3    0.847   72  241  313  179   29   34   98   80    634  \n4    0.838   17   77   94   36    8   18   20   36  28800  \n..     ...  ...  ...  ...  ...  ...  ...  ...  ...    ...  \n507  0.785   32  101  133  141   42   15   35   32    310  \n508  0.500   71  105  176  131   42   17   56   81    362  \n509  0.878   25  117  142  321   30    8  149   70    897  \n510  0.758   46   90  136   44   11   11   20   47    174  \n511  0.826   90  176  266   43   14   30   39  228    311  \n\n[512 rows x 29 columns]",
      "text/html": "<div>\n<style scoped>\n    .dataframe tbody tr th:only-of-type {\n        vertical-align: middle;\n    }\n\n    .dataframe tbody tr th {\n        vertical-align: top;\n    }\n\n    .dataframe thead th {\n        text-align: right;\n    }\n</style>\n<table border=\"1\" class=\"dataframe\">\n  <thead>\n    <tr style=\"text-align: right;\">\n      <th></th>\n      <th>Rk</th>\n      <th>Player</th>\n      <th>Pos</th>\n      <th>Age</th>\n      <th>Tm</th>\n      <th>G</th>\n      <th>GS</th>\n      <th>MP</th>\n      <th>FG</th>\n      <th>FGA</th>\n      <th>...</th>\n      <th>FT%</th>\n      <th>ORB</th>\n      <th>DRB</th>\n      <th>TRB</th>\n      <th>AST</th>\n      <th>STL</th>\n      <th>BLK</th>\n      <th>TOV</th>\n      <th>PF</th>\n      <th>PTS</th>\n    </tr>\n  </thead>\n  <tbody>\n    <tr>\n      <th>0</th>\n      <td>1</td>\n      <td>Precious Achiuwa</td>\n      <td>PF</td>\n      <td>21</td>\n      <td>MIA</td>\n      <td>35</td>\n      <td>2</td>\n      <td>491</td>\n      <td>84</td>\n      <td>145</td>\n      <td>...</td>\n      <td>0.543</td>\n      <td>46</td>\n      <td>95</td>\n      <td>141</td>\n      <td>20</td>\n      <td>15</td>\n      <td>19</td>\n      <td>32</td>\n      <td>58</td>\n      <td>212</td>\n    </tr>\n    <tr>\n      <th>1</th>\n      <td>2</td>\n      <td>Jaylen Adams</td>\n      <td>PG</td>\n      <td>24</td>\n      <td>MIL</td>\n      <td>7</td>\n      <td>0</td>\n      <td>18</td>\n      <td>1</td>\n      <td>8</td>\n      <td>...</td>\n      <td>NaN</td>\n      <td>0</td>\n      <td>3</td>\n      <td>3</td>\n      <td>2</td>\n      <td>0</td>\n      <td>0</td>\n      <td>0</td>\n      <td>1</td>\n      <td>20000</td>\n    </tr>\n    <tr>\n      <th>2</th>\n      <td>3</td>\n      <td>Steven Adams</td>\n      <td>C</td>\n      <td>27</td>\n      <td>NOP</td>\n      <td>33</td>\n      <td>33</td>\n      <td>918</td>\n      <td>115</td>\n      <td>187</td>\n      <td>...</td>\n      <td>0.443</td>\n      <td>133</td>\n      <td>161</td>\n      <td>294</td>\n      <td>69</td>\n      <td>29</td>\n      <td>20</td>\n      <td>50</td>\n      <td>63</td>\n      <td>265</td>\n    </tr>\n    <tr>\n      <th>3</th>\n      <td>4</td>\n      <td>Bam Adebayo</td>\n      <td>C</td>\n      <td>23</td>\n      <td>MIA</td>\n      <td>33</td>\n      <td>33</td>\n      <td>1119</td>\n      <td>236</td>\n      <td>419</td>\n      <td>...</td>\n      <td>0.847</td>\n      <td>72</td>\n      <td>241</td>\n      <td>313</td>\n      <td>179</td>\n      <td>29</td>\n      <td>34</td>\n      <td>98</td>\n      <td>80</td>\n      <td>634</td>\n    </tr>\n    <tr>\n      <th>4</th>\n      <td>5</td>\n      <td>LaMarcus Aldridge</td>\n      <td>C</td>\n      <td>35</td>\n      <td>SAS</td>\n      <td>21</td>\n      <td>18</td>\n      <td>544</td>\n      <td>115</td>\n      <td>248</td>\n      <td>...</td>\n      <td>0.838</td>\n      <td>17</td>\n      <td>77</td>\n      <td>94</td>\n      <td>36</td>\n      <td>8</td>\n      <td>18</td>\n      <td>20</td>\n      <td>36</td>\n      <td>28800</td>\n    </tr>\n    <tr>\n      <th>...</th>\n      <td>...</td>\n      <td>...</td>\n      <td>...</td>\n      <td>...</td>\n      <td>...</td>\n      <td>...</td>\n      <td>...</td>\n      <td>...</td>\n      <td>...</td>\n      <td>...</td>\n      <td>...</td>\n      <td>...</td>\n      <td>...</td>\n      <td>...</td>\n      <td>...</td>\n      <td>...</td>\n      <td>...</td>\n      <td>...</td>\n      <td>...</td>\n      <td>...</td>\n      <td>...</td>\n    </tr>\n    <tr>\n      <th>507</th>\n      <td>488</td>\n      <td>Delon Wright</td>\n      <td>SG</td>\n      <td>28</td>\n      <td>DET</td>\n      <td>29</td>\n      <td>24</td>\n      <td>848</td>\n      <td>110</td>\n      <td>235</td>\n      <td>...</td>\n      <td>0.785</td>\n      <td>32</td>\n      <td>101</td>\n      <td>133</td>\n      <td>141</td>\n      <td>42</td>\n      <td>15</td>\n      <td>35</td>\n      <td>32</td>\n      <td>310</td>\n    </tr>\n    <tr>\n      <th>508</th>\n      <td>489</td>\n      <td>Thaddeus Young</td>\n      <td>PF</td>\n      <td>32</td>\n      <td>CHI</td>\n      <td>30</td>\n      <td>0</td>\n      <td>760</td>\n      <td>167</td>\n      <td>274</td>\n      <td>...</td>\n      <td>0.500</td>\n      <td>71</td>\n      <td>105</td>\n      <td>176</td>\n      <td>131</td>\n      <td>42</td>\n      <td>17</td>\n      <td>56</td>\n      <td>81</td>\n      <td>362</td>\n    </tr>\n    <tr>\n      <th>509</th>\n      <td>490</td>\n      <td>Trae Young</td>\n      <td>PG</td>\n      <td>22</td>\n      <td>ATL</td>\n      <td>34</td>\n      <td>34</td>\n      <td>1182</td>\n      <td>262</td>\n      <td>610</td>\n      <td>...</td>\n      <td>0.878</td>\n      <td>25</td>\n      <td>117</td>\n      <td>142</td>\n      <td>321</td>\n      <td>30</td>\n      <td>8</td>\n      <td>149</td>\n      <td>70</td>\n      <td>897</td>\n    </tr>\n    <tr>\n      <th>510</th>\n      <td>491</td>\n      <td>Cody Zeller</td>\n      <td>C</td>\n      <td>28</td>\n      <td>CHO</td>\n      <td>18</td>\n      <td>15</td>\n      <td>421</td>\n      <td>73</td>\n      <td>142</td>\n      <td>...</td>\n      <td>0.758</td>\n      <td>46</td>\n      <td>90</td>\n      <td>136</td>\n      <td>44</td>\n      <td>11</td>\n      <td>11</td>\n      <td>20</td>\n      <td>47</td>\n      <td>174</td>\n    </tr>\n    <tr>\n      <th>511</th>\n      <td>492</td>\n      <td>Ivica Zubac</td>\n      <td>C</td>\n      <td>23</td>\n      <td>LAC</td>\n      <td>38</td>\n      <td>1</td>\n      <td>753</td>\n      <td>120</td>\n      <td>182</td>\n      <td>...</td>\n      <td>0.826</td>\n      <td>90</td>\n      <td>176</td>\n      <td>266</td>\n      <td>43</td>\n      <td>14</td>\n      <td>30</td>\n      <td>39</td>\n      <td>228</td>\n      <td>311</td>\n    </tr>\n  </tbody>\n</table>\n<p>512 rows × 29 columns</p>\n</div>"
     },
     "execution_count": 2,
     "metadata": {},
     "output_type": "execute_result"
    }
   ],
   "source": [
    "# Load the data from the file NBA_players_stats.csv using pandas library.\n",
    "file_path = \"NBA_players_stats.csv\"\n",
    "data = pd.read_csv(file_path, sep=',', decimal='.')\n",
    "data"
   ]
  },
  {
   "cell_type": "code",
   "execution_count": 3,
   "metadata": {
    "id": "SpCdNXgLvdtv"
   },
   "outputs": [],
   "source": [
    "# Clean the data\n",
    "data['Pos'] = data['Pos'].str.strip()\n",
    "data['Pos'] = data['Pos'].str.upper()\n",
    "#data['Pos'].value_counts()\n",
    "\n",
    "data['Pos'] = data['Pos'].str.replace(\"SGA\", \"SG\")\n",
    "data['Pos'] = data['Pos'].str.replace(\"PFA\", \"PF\")\n",
    "data['Pos'] = data['Pos'].str.replace(\"SF.\", \"SF\")\n",
    "data['Pos'] = data['Pos'].str.replace(\"SFPF\", \"SF-PF\")\n",
    "#data['Pos'].value_counts()\n",
    "\n",
    "data['Age'] = data['Age'].abs()\n",
    "data['Age'] = data['Age'].replace(280, 28)\n",
    "#data['Age'].sort_values()\n",
    "\n",
    "data['Tm'] = data['Tm'].str.strip()\n",
    "data['Tm'] = data['Tm'].str.upper()\n",
    "data['Tm'] = data['Tm'].str.replace(\"H0U\", \"HOU\")\n",
    "#data['Tm'].value_counts()\n",
    "\n",
    "data['PTS'] = data['PTS'].replace(20000, 2)\n",
    "data['PTS'] = data['PTS'].replace(28800, 288)\n",
    "\n",
    "#data.iloc[1]"
   ]
  },
  {
   "cell_type": "code",
   "execution_count": 9,
   "outputs": [
    {
     "data": {
      "text/plain": "Rk          182\nPos       PG-SG\nAge          31\nTm          TOT\nG            62\nGS           62\nMP         2346\nFG          500\nFGA        1034\nFG%       0.475\n3P          202\n3PA         504\n3P%        0.39\n2P          298\n2PA         530\n2P%    0.560667\nFT          366\nFTA         426\nFT%       0.864\nORB          52\nDRB         432\nTRB         484\nAST         690\nSTL          72\nBLK          42\nTOV         262\nPF          134\nPTS        1568\nName: James Harden, dtype: object"
     },
     "execution_count": 9,
     "metadata": {},
     "output_type": "execute_result"
    }
   ],
   "source": [
    "def myfunc(x) :\n",
    "    return x.values[0]\n",
    "\n",
    "\n",
    "#Grouping players together\n",
    "data = data.groupby('Player').agg({\n",
    "'Rk'      : myfunc,\n",
    "'Pos'     : myfunc,\n",
    "'Age'     : myfunc,\n",
    "'Tm'      : myfunc,\n",
    "'G'       : np.sum,\n",
    "'GS'      : np.sum,\n",
    "'MP'      : np.sum,\n",
    "'FG'      : np.sum,\n",
    "'FGA'     : np.sum,\n",
    "'FG%'     : np.average,\n",
    "'3P'      : np.sum,\n",
    "'3PA'     : np.sum,\n",
    "'3P%'     : np.average,\n",
    "'2P'      : np.sum,\n",
    "'2PA'     : np.sum,\n",
    "'2P%'     : np.average,\n",
    "'FT'      : np.sum,\n",
    "'FTA'     : np.sum,\n",
    "'FT%'     : np.average,\n",
    "'ORB'     : np.sum,\n",
    "'DRB'     : np.sum,\n",
    "'TRB'     : np.sum,\n",
    "'AST'     : np.sum,\n",
    "'STL'     : np.sum,\n",
    "'BLK'     : np.sum,\n",
    "'TOV'     : np.sum,\n",
    "'PF'      : np.sum,\n",
    "'PTS'     : np.sum,\n",
    "})\n",
    "\n",
    "data.loc[\"James Harden\"]"
   ],
   "metadata": {
    "collapsed": false,
    "pycharm": {
     "name": "#%%\n"
    }
   }
  },
  {
   "cell_type": "code",
   "execution_count": 43,
   "metadata": {
    "id": "RU9Pm6LKfToO",
    "pycharm": {
     "name": "#%%\n"
    }
   },
   "outputs": [],
   "source": [
    "\"\"\"\n",
    "Make sure that you write the final cleaned dataframe object into a csv file\n",
    "Please replace XXXXX with your dataframe variable.\n",
    "\"\"\"\n",
    "data.to_csv('cleaned_NBA_players_stats.csv', index=False)\n"
   ]
  },
  {
   "cell_type": "markdown",
   "metadata": {
    "id": "r-i5aIqXpPbu"
   },
   "source": [
    "# Task 2: Data Exploration"
   ]
  },
  {
   "cell_type": "markdown",
   "metadata": {
    "id": "QOY4K_neos9j"
   },
   "source": [
    "## Task 2.1 \n",
    "Explore the players' total points: Please analyze the composition of the total points of the top five players with the most points."
   ]
  },
  {
   "cell_type": "code",
   "execution_count": 18,
   "metadata": {
    "id": "ziwtOfWJn-Eh"
   },
   "outputs": [
    {
     "data": {
      "text/plain": "<AxesSubplot:xlabel='Player'>"
     },
     "execution_count": 18,
     "metadata": {},
     "output_type": "execute_result"
    },
    {
     "data": {
      "text/plain": "<Figure size 576x432 with 1 Axes>",
      "image/png": "[encoded data removed]"
     },
     "metadata": {
      "needs_background": "light"
     },
     "output_type": "display_data"
    }
   ],
   "source": [
    "# Code goes after this line by adding cells\n",
    "data.sort_values(by=['PTS'], ascending=False).head(5)[\"PTS\"].array#.plot(kind='pie',autopct='%.2f')\n",
    "#plt.title(\"Player\")\n",
    "#plt.show()\n",
    "#data['PTS']\n",
    "data.sort_values(by=['PTS'], ascending=False).head(5).plot.bar(y=\"PTS\", figsize=(8,6))"
   ]
  },
  {
   "cell_type": "markdown",
   "metadata": {
    "id": "0-HLFaWTo7Gr"
   },
   "source": [
    "## Task 2.2 \n",
    "Assuming that the data collector makes an entry error when collecting data, it can be ensured that the error occurred in the 3P, 3PA and 3P% columns, but it is not sure which player's information the error lies on. Please try to explore the error by visualization to identify how many errors there are and try to fix it.\n"
   ]
  },
  {
   "cell_type": "code",
   "execution_count": 8,
   "metadata": {
    "id": "k3-8Pbi1n-Ei"
   },
   "outputs": [],
   "source": [
    "# Code goes after this line by adding cells\n"
   ]
  },
  {
   "cell_type": "markdown",
   "metadata": {
    "id": "jnasiwOAo_RP"
   },
   "source": [
    "## Task 2.3 \n",
    "Please analyze the relationship between the player's total points and the rest features (columns). Please use at least three other columns.\n"
   ]
  },
  {
   "cell_type": "code",
   "execution_count": 9,
   "metadata": {
    "id": "hHsmCb2gn-Ei"
   },
   "outputs": [],
   "source": [
    "# Code goes after this line by adding cells\n"
   ]
  }
 ],
 "metadata": {
  "colab": {
   "collapsed_sections": [],
   "name": "assignment1_TEMPLATE.ipynb",
   "provenance": [],
   "toc_visible": true
  },
  "kernelspec": {
   "display_name": "Python 3",
   "language": "python",
   "name": "python3"
  },
  "language_info": {
   "codemirror_mode": {
    "name": "ipython",
    "version": 3
   },
   "file_extension": ".py",
   "mimetype": "text/x-python",
   "name": "python",
   "nbconvert_exporter": "python",
   "pygments_lexer": "ipython3",
   "version": "3.8.5"
  }
 },
 "nbformat": 4,
 "nbformat_minor": 1
}