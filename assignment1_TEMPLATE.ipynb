{
 "cells": [
  {
   "cell_type": "markdown",
   "metadata": {
    "id": "u-EEv9utoT69"
   },
   "source": [
    "# Task 1: Data Preparation\n",
    "\n",
    "You will start by loading the CSV data from the file (using appropriate pandas functions) and checking whether the loaded data is equivalent to the data in the source CSV file.\n",
    "\n",
    "Then, you need to clean the data by using the knowledge we taught in the lectures. You need to deal with all the potential issues/errors in the data appropriately.\n",
    "\n",
    "###### (Please note that this is just a sample template, and please feel free to add more cells to complete of the sub-tasks in the assignment. The following existing cells are for example purposes only.)"
   ]
  },
  {
   "cell_type": "code",
   "execution_count": 1,
   "metadata": {
    "id": "Qykq4YuQtZUS"
   },
   "outputs": [],
   "source": [
    "# Import pandas library\n",
    "import pandas as pd\n",
    "import numpy as np\n",
    "import math\n",
    "import matplotlib.pyplot as plt"
   ]
  },
  {
   "cell_type": "code",
   "execution_count": 2,
   "metadata": {
    "id": "RhLG8LgxsFd7"
   },
   "outputs": [
    {
     "data": {
      "text/plain": "      Rk             Player Pos  Age    Tm   G  GS    MP   FG  FGA  ...  \\\n0      1   Precious Achiuwa  PF   21   MIA  35   2   491   84  145  ...   \n1      2       Jaylen Adams  PG   24   MIL   7   0    18    1    8  ...   \n2      3       Steven Adams   C   27   NOP  33  33   918  115  187  ...   \n3      4        Bam Adebayo   C   23   MIA  33  33  1119  236  419  ...   \n4      5  LaMarcus Aldridge   C   35  SAS   21  18   544  115  248  ...   \n..   ...                ...  ..  ...   ...  ..  ..   ...  ...  ...  ...   \n507  488       Delon Wright  SG   28   DET  29  24   848  110  235  ...   \n508  489     Thaddeus Young  PF   32   CHI  30   0   760  167  274  ...   \n509  490         Trae Young  PG   22   ATL  34  34  1182  262  610  ...   \n510  491        Cody Zeller   C   28   CHO  18  15   421   73  142  ...   \n511  492        Ivica Zubac   C   23   LAC  38   1   753  120  182  ...   \n\n       FT%  ORB  DRB  TRB  AST  STL  BLK  TOV   PF    PTS  \n0    0.543   46   95  141   20   15   19   32   58    212  \n1      NaN    0    3    3    2    0    0    0    1  20000  \n2    0.443  133  161  294   69   29   20   50   63    265  \n3    0.847   72  241  313  179   29   34   98   80    634  \n4    0.838   17   77   94   36    8   18   20   36  28800  \n..     ...  ...  ...  ...  ...  ...  ...  ...  ...    ...  \n507  0.785   32  101  133  141   42   15   35   32    310  \n508  0.500   71  105  176  131   42   17   56   81    362  \n509  0.878   25  117  142  321   30    8  149   70    897  \n510  0.758   46   90  136   44   11   11   20   47    174  \n511  0.826   90  176  266   43   14   30   39  228    311  \n\n[512 rows x 29 columns]",
      "text/html": "<div>\n<style scoped>\n    .dataframe tbody tr th:only-of-type {\n        vertical-align: middle;\n    }\n\n    .dataframe tbody tr th {\n        vertical-align: top;\n    }\n\n    .dataframe thead th {\n        text-align: right;\n    }\n</style>\n<table border=\"1\" class=\"dataframe\">\n  <thead>\n    <tr style=\"text-align: right;\">\n      <th></th>\n      <th>Rk</th>\n      <th>Player</th>\n      <th>Pos</th>\n      <th>Age</th>\n      <th>Tm</th>\n      <th>G</th>\n      <th>GS</th>\n      <th>MP</th>\n      <th>FG</th>\n      <th>FGA</th>\n      <th>...</th>\n      <th>FT%</th>\n      <th>ORB</th>\n      <th>DRB</th>\n      <th>TRB</th>\n      <th>AST</th>\n      <th>STL</th>\n      <th>BLK</th>\n      <th>TOV</th>\n      <th>PF</th>\n      <th>PTS</th>\n    </tr>\n  </thead>\n  <tbody>\n    <tr>\n      <th>0</th>\n      <td>1</td>\n      <td>Precious Achiuwa</td>\n      <td>PF</td>\n      <td>21</td>\n      <td>MIA</td>\n      <td>35</td>\n      <td>2</td>\n      <td>491</td>\n      <td>84</td>\n      <td>145</td>\n      <td>...</td>\n      <td>0.543</td>\n      <td>46</td>\n      <td>95</td>\n      <td>141</td>\n      <td>20</td>\n      <td>15</td>\n      <td>19</td>\n      <td>32</td>\n      <td>58</td>\n      <td>212</td>\n    </tr>\n    <tr>\n      <th>1</th>\n      <td>2</td>\n      <td>Jaylen Adams</td>\n      <td>PG</td>\n      <td>24</td>\n      <td>MIL</td>\n      <td>7</td>\n      <td>0</td>\n      <td>18</td>\n      <td>1</td>\n      <td>8</td>\n      <td>...</td>\n      <td>NaN</td>\n      <td>0</td>\n      <td>3</td>\n      <td>3</td>\n      <td>2</td>\n      <td>0</td>\n      <td>0</td>\n      <td>0</td>\n      <td>1</td>\n      <td>20000</td>\n    </tr>\n    <tr>\n      <th>2</th>\n      <td>3</td>\n      <td>Steven Adams</td>\n      <td>C</td>\n      <td>27</td>\n      <td>NOP</td>\n      <td>33</td>\n      <td>33</td>\n      <td>918</td>\n      <td>115</td>\n      <td>187</td>\n      <td>...</td>\n      <td>0.443</td>\n      <td>133</td>\n      <td>161</td>\n      <td>294</td>\n      <td>69</td>\n      <td>29</td>\n      <td>20</td>\n      <td>50</td>\n      <td>63</td>\n      <td>265</td>\n    </tr>\n    <tr>\n      <th>3</th>\n      <td>4</td>\n      <td>Bam Adebayo</td>\n      <td>C</td>\n      <td>23</td>\n      <td>MIA</td>\n      <td>33</td>\n      <td>33</td>\n      <td>1119</td>\n      <td>236</td>\n      <td>419</td>\n      <td>...</td>\n      <td>0.847</td>\n      <td>72</td>\n      <td>241</td>\n      <td>313</td>\n      <td>179</td>\n      <td>29</td>\n      <td>34</td>\n      <td>98</td>\n      <td>80</td>\n      <td>634</td>\n    </tr>\n    <tr>\n      <th>4</th>\n      <td>5</td>\n      <td>LaMarcus Aldridge</td>\n      <td>C</td>\n      <td>35</td>\n      <td>SAS</td>\n      <td>21</td>\n      <td>18</td>\n      <td>544</td>\n      <td>115</td>\n      <td>248</td>\n      <td>...</td>\n      <td>0.838</td>\n      <td>17</td>\n      <td>77</td>\n      <td>94</td>\n      <td>36</td>\n      <td>8</td>\n      <td>18</td>\n      <td>20</td>\n      <td>36</td>\n      <td>28800</td>\n    </tr>\n    <tr>\n      <th>...</th>\n      <td>...</td>\n      <td>...</td>\n      <td>...</td>\n      <td>...</td>\n      <td>...</td>\n      <td>...</td>\n      <td>...</td>\n      <td>...</td>\n      <td>...</td>\n      <td>...</td>\n      <td>...</td>\n      <td>...</td>\n      <td>...</td>\n      <td>...</td>\n      <td>...</td>\n      <td>...</td>\n      <td>...</td>\n      <td>...</td>\n      <td>...</td>\n      <td>...</td>\n      <td>...</td>\n    </tr>\n    <tr>\n      <th>507</th>\n      <td>488</td>\n      <td>Delon Wright</td>\n      <td>SG</td>\n      <td>28</td>\n      <td>DET</td>\n      <td>29</td>\n      <td>24</td>\n      <td>848</td>\n      <td>110</td>\n      <td>235</td>\n      <td>...</td>\n      <td>0.785</td>\n      <td>32</td>\n      <td>101</td>\n      <td>133</td>\n      <td>141</td>\n      <td>42</td>\n      <td>15</td>\n      <td>35</td>\n      <td>32</td>\n      <td>310</td>\n    </tr>\n    <tr>\n      <th>508</th>\n      <td>489</td>\n      <td>Thaddeus Young</td>\n      <td>PF</td>\n      <td>32</td>\n      <td>CHI</td>\n      <td>30</td>\n      <td>0</td>\n      <td>760</td>\n      <td>167</td>\n      <td>274</td>\n      <td>...</td>\n      <td>0.500</td>\n      <td>71</td>\n      <td>105</td>\n      <td>176</td>\n      <td>131</td>\n      <td>42</td>\n      <td>17</td>\n      <td>56</td>\n      <td>81</td>\n      <td>362</td>\n    </tr>\n    <tr>\n      <th>509</th>\n      <td>490</td>\n      <td>Trae Young</td>\n      <td>PG</td>\n      <td>22</td>\n      <td>ATL</td>\n      <td>34</td>\n      <td>34</td>\n      <td>1182</td>\n      <td>262</td>\n      <td>610</td>\n      <td>...</td>\n      <td>0.878</td>\n      <td>25</td>\n      <td>117</td>\n      <td>142</td>\n      <td>321</td>\n      <td>30</td>\n      <td>8</td>\n      <td>149</td>\n      <td>70</td>\n      <td>897</td>\n    </tr>\n    <tr>\n      <th>510</th>\n      <td>491</td>\n      <td>Cody Zeller</td>\n      <td>C</td>\n      <td>28</td>\n      <td>CHO</td>\n      <td>18</td>\n      <td>15</td>\n      <td>421</td>\n      <td>73</td>\n      <td>142</td>\n      <td>...</td>\n      <td>0.758</td>\n      <td>46</td>\n      <td>90</td>\n      <td>136</td>\n      <td>44</td>\n      <td>11</td>\n      <td>11</td>\n      <td>20</td>\n      <td>47</td>\n      <td>174</td>\n    </tr>\n    <tr>\n      <th>511</th>\n      <td>492</td>\n      <td>Ivica Zubac</td>\n      <td>C</td>\n      <td>23</td>\n      <td>LAC</td>\n      <td>38</td>\n      <td>1</td>\n      <td>753</td>\n      <td>120</td>\n      <td>182</td>\n      <td>...</td>\n      <td>0.826</td>\n      <td>90</td>\n      <td>176</td>\n      <td>266</td>\n      <td>43</td>\n      <td>14</td>\n      <td>30</td>\n      <td>39</td>\n      <td>228</td>\n      <td>311</td>\n    </tr>\n  </tbody>\n</table>\n<p>512 rows × 29 columns</p>\n</div>"
     },
     "execution_count": 2,
     "metadata": {},
     "output_type": "execute_result"
    }
   ],
   "source": [
    "# Load the data from the file NBA_players_stats.csv using pandas library.\n",
    "file_path = \"NBA_players_stats.csv\"\n",
    "data = pd.read_csv(file_path, sep=',', decimal='.')\n",
    "data"
   ]
  },
  {
   "cell_type": "code",
   "execution_count": 3,
   "outputs": [
    {
     "data": {
      "text/plain": "SG        117\nPF        102\nC          98\nPG         92\nSF         83\n PG         3\nSG          3\nC           2\nPF          1\n SG         1\n SF         1\nSGa         1\nSF.         1\npg          1\nPG-SG       1\nPg          1\nSF-PF       1\nSf          1\nPFa         1\nsg          1\nName: Pos, dtype: int64"
     },
     "execution_count": 3,
     "metadata": {},
     "output_type": "execute_result"
    }
   ],
   "source": [
    "data['Pos'].value_counts()"
   ],
   "metadata": {
    "collapsed": false,
    "pycharm": {
     "name": "#%%\n"
    }
   }
  },
  {
   "cell_type": "code",
   "execution_count": 4,
   "metadata": {
    "id": "SpCdNXgLvdtv"
   },
   "outputs": [
    {
     "name": "stdout",
     "output_type": "stream",
     "text": [
      "397    19\n",
      "26     19\n",
      "497    19\n",
      "287    19\n",
      "197    19\n",
      "       ..\n",
      "401    36\n",
      "231    36\n",
      "156    36\n",
      "16     36\n",
      "221    37\n",
      "Name: Age, Length: 512, dtype: int64\n"
     ]
    }
   ],
   "source": [
    "# Clean the data\n",
    "data['Pos'] = data['Pos'].str.strip()\n",
    "data['Pos'] = data['Pos'].str.upper()\n",
    "#data['Pos'].value_counts()\n",
    "\n",
    "data['Pos'] = data['Pos'].str.replace(\"SGA\", \"SG\")\n",
    "data['Pos'] = data['Pos'].str.replace(\"PFA\", \"PF\")\n",
    "data['Pos'] = data['Pos'].str.replace(\"SF.\", \"SF\")\n",
    "data['Pos'] = data['Pos'].str.replace(\"SFPF\", \"SF-PF\")\n",
    "#data['Pos'].value_counts()\n",
    "\n",
    "data['Age'] = data['Age'].abs()\n",
    "data['Age'] = data['Age'].replace(280, 28)\n",
    "#data['Age'].sort_values()\n",
    "\n",
    "data['Tm'] = data['Tm'].str.strip()\n",
    "data['Tm'] = data['Tm'].str.upper()\n",
    "data['Tm'] = data['Tm'].str.replace(\"H0U\", \"HOU\")\n",
    "#data['Tm'].value_counts()\n",
    "\n",
    "#print(data.loc[data['PTS'] != (3 * data['3P'] + 2 * data['2P'] + data['FT'])][['Player','2P', '3P', 'PTS']])\n",
    "data['PTS'] = data['PTS'].replace(20000, 2)\n",
    "data['PTS'] = data['PTS'].replace(28800, 288)\n",
    "\n",
    "\n",
    "#data.iloc[1]"
   ]
  },
  {
   "cell_type": "code",
   "execution_count": 5,
   "outputs": [],
   "source": [
    "#before groupby\n",
    "#print(data['Player'].value_counts().sort_values().tail(15))\n",
    "\n",
    "print(data[['Player','Rk','Pos','Tm']].loc[data['Player'] == 'James Harden'])\n",
    "#James Harden\n",
    "#Rodions Kurucs"
   ],
   "metadata": {
    "collapsed": false,
    "pycharm": {
     "name": "#%%\n"
    }
   }
  },
  {
   "cell_type": "code",
   "execution_count": 6,
   "outputs": [],
   "source": [
    "#after groupby\n",
    "#print(data['Player'].value_counts().sort_values().tail(15))\n",
    "\n",
    "#print(data['Tm']['Taurean Prince'])\n",
    "#James Harden\n",
    "#Rodions Kurucs"
   ],
   "metadata": {
    "collapsed": false,
    "pycharm": {
     "name": "#%%\n"
    }
   }
  },
  {
   "cell_type": "code",
   "execution_count": 14,
   "outputs": [
    {
     "ename": "SyntaxError",
     "evalue": "invalid syntax (<ipython-input-14-5bfceefba070>, line 4)",
     "output_type": "error",
     "traceback": [
      "\u001B[1;36m  File \u001B[1;32m\"<ipython-input-14-5bfceefba070>\"\u001B[1;36m, line \u001B[1;32m4\u001B[0m\n\u001B[1;33m    Explore the players' total points: Please analyze the composition of the total points of the top five players with the most points.\u001B[0m\n\u001B[1;37m            ^\u001B[0m\n\u001B[1;31mSyntaxError\u001B[0m\u001B[1;31m:\u001B[0m invalid syntax\n"
     ]
    }
   ],
   "source": [
    "def returnfirst(x) :\n",
    "    return x.values[0]\n",
    "\n",
    "def returnlatest(x) :\n",
    "    return x.values[0]\n",
    "\n",
    "def returnlongest(x) :\n",
    "    return x.values[0]\n",
    "\n",
    "\n",
    "#Grouping players together\n",
    "data = data.groupby('Player').agg({\n",
    "'Rk'      : returnfirst,\n",
    "'Pos'     : returnfirst,\n",
    "'Age'     : returnfirst,\n",
    "'Tm'      : returnfirst,\n",
    "'G'       : np.sum,\n",
    "'GS'      : np.sum,\n",
    "'MP'      : np.sum,\n",
    "'FG'      : np.sum,\n",
    "'FGA'     : np.sum,\n",
    "'FG%'     : np.average,\n",
    "'3P'      : np.sum,\n",
    "'3PA'     : np.sum,\n",
    "'3P%'     : np.average,\n",
    "'2P'      : np.sum,\n",
    "'2PA'     : np.sum,\n",
    "'2P%'     : np.average,\n",
    "'FT'      : np.sum,\n",
    "'FTA'     : np.sum,\n",
    "'FT%'     : np.average,\n",
    "'ORB'     : np.sum,\n",
    "'DRB'     : np.sum,\n",
    "'TRB'     : np.sum,\n",
    "'AST'     : np.sum,\n",
    "'STL'     : np.sum,\n",
    "'BLK'     : np.sum,\n",
    "'TOV'     : np.sum,\n",
    "'PF'      : np.sum,\n",
    "'PTS'     : np.sum,\n",
    "})\n",
    "\n",
    "#data.loc[\"James Harden\"]"
   ],
   "metadata": {
    "collapsed": false,
    "pycharm": {
     "name": "#%%\n"
    }
   }
  },
  {
   "cell_type": "code",
   "execution_count": 12,
   "metadata": {
    "id": "RU9Pm6LKfToO",
    "pycharm": {
     "name": "#%%\n"
    }
   },
   "outputs": [
    {
     "ename": "SyntaxError",
     "evalue": "invalid syntax (<ipython-input-12-9a2d5355a516>, line 2)",
     "output_type": "error",
     "traceback": [
      "\u001B[1;36m  File \u001B[1;32m\"<ipython-input-12-9a2d5355a516>\"\u001B[1;36m, line \u001B[1;32m2\u001B[0m\n\u001B[1;33m    Explore the players' total points: Please analyze the composition of the total points of the top five players with the most points.\u001B[0m\n\u001B[1;37m            ^\u001B[0m\n\u001B[1;31mSyntaxError\u001B[0m\u001B[1;31m:\u001B[0m invalid syntax\n"
     ]
    }
   ],
   "source": [
    "\"\"\"\n",
    "Make sure that you write the final cleaned dataframe object into a csv file\n",
    "Please replace XXXXX with your dataframe variable.\n",
    "\"\"\"\n",
    "data.to_csv('cleaned_NBA_players_stats.csv', index=False)"
   ]
  },
  {
   "cell_type": "markdown",
   "metadata": {
    "id": "r-i5aIqXpPbu"
   },
   "source": [
    "# Task 2: Data Exploration"
   ]
  },
  {
   "cell_type": "markdown",
   "metadata": {
    "id": "QOY4K_neos9j"
   },
   "source": [
    "## Task 2.1 \n",
    "Explore the players' total points: Please analyze the composition of the total points of the top five players with the most points."
   ]
  },
  {
   "cell_type": "markdown",
   "source": [
    "fig 1.1\n",
    "\n",
    "Top 5 NBA player points"
   ],
   "metadata": {
    "collapsed": false,
    "pycharm": {
     "name": "#%% md\n"
    }
   }
  },
  {
   "cell_type": "code",
   "execution_count": null,
   "outputs": [],
   "source": [
    "#Total PTS of everyone\n",
    "data.sort_values(by=['PTS'], ascending=False).plot.hist(y=\"PTS\", figsize=(20,6), bins=60)\n",
    "plt.axvline(data['PTS'].mean(), color='k', linestyle='dashed', linewidth=2)\n",
    "#data.sort_values(by=['PTS'], ascending=False).boxplot(column=\"PTS\", figsize=(8,14))\n",
    "print(data.sort_values(by=['Rk']).tail())"
   ],
   "metadata": {
    "collapsed": false,
    "pycharm": {
     "name": "#%%\n"
    }
   }
  },
  {
   "cell_type": "code",
   "execution_count": null,
   "outputs": [],
   "source": [
    "averagethree = round(data.sort_values(by=['PTS'], ascending=False)[\"3P\"].mean())\n",
    "averagetwo = round(data.sort_values(by=['PTS'], ascending=False)[\"2P\"].mean())\n",
    "averagefree = round(data.sort_values(by=['PTS'], ascending=False)[\"FT\"].mean())\n",
    "\n",
    "allavgs = pd.DataFrame({'averages': [averagetwo, averagethree, averagefree]},\n",
    "                       index=['Two Pts', 'Three Pts', 'Free Throw Pts'])\n",
    "\n",
    "allavgs.plot.pie(y='averages', figsize=(8,8), title='Scoring composition')"
   ],
   "metadata": {
    "collapsed": false,
    "pycharm": {
     "name": "#%%\n"
    }
   }
  },
  {
   "cell_type": "code",
   "execution_count": null,
   "outputs": [],
   "source": [
    "averagethree = round(3 * data.sort_values(by=['PTS'], ascending=False)[\"3P\"].mean())\n",
    "averagetwo = round(2 * data.sort_values(by=['PTS'], ascending=False)[\"2P\"].mean())\n",
    "averagefree = round(data.sort_values(by=['PTS'], ascending=False)[\"FT\"].mean())\n",
    "\n",
    "allavgs = pd.DataFrame({'averages': [averagetwo, averagethree, averagefree]},\n",
    "                       index=['Two Pts', 'Three Pts', 'Free Throw Pts'])\n",
    "\n",
    "allavgs.plot.pie(y='averages', figsize=(8,8), title='Points composition')"
   ],
   "metadata": {
    "collapsed": false,
    "pycharm": {
     "name": "#%%\n"
    }
   }
  },
  {
   "cell_type": "code",
   "execution_count": null,
   "metadata": {
    "id": "ziwtOfWJn-Eh"
   },
   "outputs": [],
   "source": [
    "#Total PTS of top 5\n",
    "data.sort_values(by=['PTS'], ascending=False).head(5).plot.bar(y=\"PTS\", figsize=(8,6))"
   ]
  },
  {
   "cell_type": "code",
   "execution_count": null,
   "outputs": [],
   "source": [
    "averagethree = round(3 * data.sort_values(by=['PTS'], ascending=False).tail(data.size - 5)[\"3P\"].mean())\n",
    "averagetwo = round(2 * data.sort_values(by=['PTS'], ascending=False).tail(data.size - 5)[\"2P\"].mean())\n",
    "averagefree = round(data.sort_values(by=['PTS'], ascending=False).tail(data.size - 5)[\"FT\"].mean())\n",
    "\n",
    "three = 3 * data.sort_values(by=['PTS'], ascending=False).head(5)[\"3P\"]\n",
    "two = 2 * data.sort_values(by=['PTS'], ascending=False).head(5)[\"2P\"]\n",
    "free = data.sort_values(by=['PTS'], ascending=False).head(5)[\"FT\"]\n",
    "\n",
    "three.loc[\"Average of rest\"] = averagethree\n",
    "two.loc[\"Average of rest\"] =  averagetwo\n",
    "free.loc[\"Average of rest\"] =  averagefree\n",
    "\n",
    "plotdata = pd.DataFrame({ 'Three point goals' : three, 'Two point goals' : two, 'Free throw goals' : free })\n",
    "\n",
    "plt.style.use('ggplot')\n",
    "\n",
    "ax = plotdata.plot(stacked=True, kind='bar', figsize=(12, 8), rot='horizontal')\n",
    "\n",
    "for rect in ax.patches:\n",
    "    # Find where everything is located\n",
    "    height = rect.get_height()\n",
    "    width = rect.get_width()\n",
    "    x = rect.get_x()\n",
    "    y = rect.get_y()\n",
    "\n",
    "    label_text = f'{height}'  # f'{height:.2f}' to format decimal values\n",
    "\n",
    "    label_x = x + width / 2\n",
    "    label_y = y + height / 2\n",
    "\n",
    "    if height > 0:\n",
    "        ax.text(label_x, label_y, label_text, ha='center', va='center', fontsize=8)\n",
    "\n",
    "ax.legend(bbox_to_anchor=(1.05, 1), loc='upper left', borderaxespad=0.)\n",
    "ax.set_ylabel(\"Total Points\", fontsize=18)\n",
    "ax.set_xlabel(\"Player\", fontsize=18)\n",
    "plt.show()"
   ],
   "metadata": {
    "collapsed": false,
    "pycharm": {
     "name": "#%%\n"
    }
   }
  },
  {
   "cell_type": "code",
   "source": [
    "#data.sort_values(by=['PTS'], ascending=False).head(5)"
   ],
   "metadata": {
    "collapsed": false,
    "pycharm": {
     "name": "#%%\n"
    }
   },
   "execution_count": null,
   "outputs": []
  },
  {
   "cell_type": "markdown",
   "metadata": {
    "id": "0-HLFaWTo7Gr"
   },
   "source": [
    "## Task 2.2 \n",
    "Assuming that the data collector makes an entry error when collecting data, it can be ensured that the error occurred in the 3P, 3PA and 3P% columns, but it is not sure which player's information the error lies on. Please try to explore the error by visualization to identify how many errors there are and try to fix it.\n",
    "\n",
    "3P% = 3P / 3PA"
   ]
  },
  {
   "cell_type": "code",
   "execution_count": null,
   "metadata": {
    "id": "k3-8Pbi1n-Ei"
   },
   "outputs": [],
   "source": [
    "threep = data.sort_values(by=['Rk'], ascending=False)[\"3P\"]\n",
    "threeppercent = data.sort_values(by=['Rk'], ascending=False)[\"3PA\"]\n",
    "threep = threep.div(threeppercent)\n",
    "\n",
    "# calculated3Ppercent = data.mul(threep, threeppercent)\n",
    "saved3Ppercent = data.sort_values(by=['Rk'], ascending=False)[\"3P%\"]\n",
    "\n",
    "plotdata = pd.DataFrame({ '3P calculated' : threep, '3P saved' : saved3Ppercent})\n",
    "plt.style.use('ggplot')\n",
    "\n",
    "bx = plotdata.plot(stacked=False, kind='bar', figsize=(128, 8), rot='vertical')"
   ]
  },
  {
   "cell_type": "markdown",
   "source": [
    "First 25 records as the graph including every player is too difficult to read"
   ],
   "metadata": {
    "collapsed": false,
    "pycharm": {
     "name": "#%% md\n"
    }
   }
  },
  {
   "cell_type": "code",
   "execution_count": null,
   "outputs": [],
   "source": [
    "plotdata = pd.DataFrame({ '3P calculated' : threep, '3P saved' : saved3Ppercent}).head(25)\n",
    "plt.style.use('ggplot')\n",
    "bx = plotdata.plot(stacked=False, kind='bar', figsize=(128, 8), rot='vertical')"
   ],
   "metadata": {
    "collapsed": false,
    "pycharm": {
     "name": "#%%\n"
    }
   }
  },
  {
   "cell_type": "markdown",
   "source": [
    "The left bar is the calculated 3P% using the values of the 3P and 3PA column using the equation 3P% = 3P / 3PA\n",
    "\n",
    "The right bar is the 3P% column, therefore any grouped bar that are of different heights mean that there is an error."
   ],
   "metadata": {
    "collapsed": false,
    "pycharm": {
     "name": "#%% md\n"
    }
   }
  },
  {
   "cell_type": "code",
   "source": [
    "#gets all the columns where\n",
    "is_incorrect =  round(data['3P%'],3) != round(data['3P'].div(data['3PA']),3)\n",
    "newdata = data[is_incorrect]\n",
    "\n",
    "#removes columns where the players 3P% are both equal to either 0 or NaN.\n",
    "both_nan = False == (newdata['3P%'].isna()) & (newdata['3P'].div(newdata['3PA']).isna() | (newdata['3P'].div(newdata['3PA']) == 0))\n",
    "newdata = newdata[both_nan]\n",
    "\n",
    "threep = newdata.sort_values(by=['Rk'], ascending=False)[\"3P\"]\n",
    "threeppercent = newdata.sort_values(by=['Rk'], ascending=False)[\"3PA\"]\n",
    "threep = threep.div(threeppercent)\n",
    "saved3Ppercent = newdata.sort_values(by=['Rk'], ascending=False)[\"3P%\"]\n",
    "\n",
    "plotdata = pd.DataFrame({ '3P calculated' : threep, '3P saved' : saved3Ppercent})\n",
    "\n",
    "plt.style.use('ggplot')\n",
    "\n",
    "ax = plotdata.plot(stacked=False, kind='bar', figsize=(12, 8), rot='vertical')\n",
    "\n",
    "for rect in ax.patches:\n",
    "    # Find where everything is located\n",
    "    height = rect.get_height()\n",
    "    width = rect.get_width()\n",
    "    x = rect.get_x()\n",
    "    y = rect.get_y()\n",
    "\n",
    "    label_text = f'{height:.3f}'\n",
    "\n",
    "    label_x = x + width / 2\n",
    "    label_y = y + height / 2\n",
    "\n",
    "    if height > 0:\n",
    "        ax.text(label_x, label_y, label_text, ha='center', va='center', fontsize=8, rotation=90)\n",
    "\n",
    "ax.legend(bbox_to_anchor=(1.05, 1), loc='upper left', borderaxespad=0.)\n",
    "ax.set_ylabel(\"Total Points\", fontsize=18)\n",
    "ax.set_xlabel(\"Player\", fontsize=18)\n",
    "plt.show()\n",
    "#bx = plotdata.plot(stacked=False, kind='bar', figsize=(24, 8), rot='vertical')\n",
    "\n",
    "#print(data.loc['Damian Jones'])"
   ],
   "metadata": {
    "collapsed": false,
    "pycharm": {
     "name": "#%%\n"
    }
   },
   "execution_count": null,
   "outputs": []
  },
  {
   "cell_type": "markdown",
   "source": [
    "The above graph is all the players where the calculated 3P% is not equal to the actual 3P% in the data. Therefore we can see exactly where there has been an error in the 3P% column."
   ],
   "metadata": {
    "collapsed": false
   }
  },
  {
   "cell_type": "code",
   "source": [
    "#Fixing the data\n",
    "data['3P%'] = data['3P'].div(data['3PA'])\n",
    "\n",
    "#Using the above sorting again to pick incorrect data\n",
    "is_incorrect =  round(data['3P%'],3) != round(data['3P'].div(data['3PA']),3)\n",
    "newdata = data[is_incorrect]\n",
    "both_nan = False == (newdata['3P%'].isna()) & (newdata['3P'].div(newdata['3PA']).isna() | (newdata['3P'].div(newdata['3PA']) == 0))\n",
    "newdata = newdata[both_nan]\n",
    "\n",
    "#we can see that now there are no players with an incorrect 3P%.\n",
    "newdata"
   ],
   "metadata": {
    "collapsed": false,
    "pycharm": {
     "name": "#%%\n"
    }
   },
   "execution_count": null,
   "outputs": []
  },
  {
   "cell_type": "markdown",
   "source": [
    "The above table shows that there are now zero players where the 3P% does not match the calculated 3P%."
   ],
   "metadata": {
    "collapsed": false
   }
  },
  {
   "cell_type": "markdown",
   "metadata": {
    "id": "jnasiwOAo_RP"
   },
   "source": [
    "## Task 2.3 \n",
    "Please analyze the relationship between the player's total points and the rest features (columns). Please use at least three other columns.\n",
    "\n",
    "#ideas\n",
    "#total points over games (pts / games)\n",
    "#"
   ]
  },
  {
   "cell_type": "code",
   "execution_count": null,
   "metadata": {
    "id": "hHsmCb2gn-Ei"
   },
   "outputs": [],
   "source": [
    "totalpoints = data['PTS'] / 100\n",
    "pointspergame = data['PTS'].div(data['G'])\n",
    "#pointsperminute = data['PTS'].div(data['MP'])\n",
    "taskthreedata = pd.DataFrame({'Total Points (* 100 pts)' : totalpoints,'Points per game avg' : pointspergame})\n",
    "#taskthreedata.sort_values(by='Total Points', ascending=False).head(20).plot.bar(title='Points per game', y=\"Points per game avg\", figsize=(14,6))\n",
    "\n",
    "plt.style.use('ggplot')\n",
    "\n",
    "ax = taskthreedata.sort_values(by='Total Points (* 100 pts)', ascending=False).plot(title='Total points to points per game played, sorted by total points',stacked=False, kind='bar', figsize=(20, 4), rot='vertical')\n",
    "for item in (ax.get_xticklabels() ):\n",
    "    item.set_fontsize(2)"
   ]
  },
  {
   "cell_type": "code",
   "execution_count": null,
   "outputs": [],
   "source": [
    "ax = taskthreedata.sort_values(by='Total Points (* 100 pts)', ascending=False).plot.scatter(x='Points per game avg',y='Total Points (* 100 pts)',title='Total points to points per game played', figsize=(20, 4), rot='vertical')"
   ],
   "metadata": {
    "collapsed": false,
    "pycharm": {
     "name": "#%%\n"
    }
   }
  },
  {
   "cell_type": "code",
   "execution_count": null,
   "outputs": [],
   "source": [
    "ax = taskthreedata.sort_values(by='Total Points (* 100 pts)', ascending=False).head(10).plot(title='Total points to points per game played, sorted by total points (top 20)',stacked=False, kind='bar', figsize=(18, 4), rot='vertical')"
   ],
   "metadata": {
    "collapsed": false,
    "pycharm": {
     "name": "#%%\n"
    }
   }
  },
  {
   "cell_type": "code",
   "execution_count": null,
   "outputs": [],
   "source": [
    "ax = taskthreedata.sort_values(by='Points per game avg', ascending=False).head(10).plot(title='Total points to points per game played, sorted by points per game played',stacked=False, kind='bar', figsize=(18, 4), rot='vertical')"
   ],
   "metadata": {
    "collapsed": false,
    "pycharm": {
     "name": "#%%\n"
    }
   }
  },
  {
   "cell_type": "code",
   "execution_count": null,
   "outputs": [],
   "source": [
    "#ax = taskthreedata.sort_values(by='Points per game avg', ascending=False).head(10).plot(title='Total points to points per game played, sorted by points per game ', stacked=False, kind='bar', figsize=(12, 4), rot='vertical')"
   ],
   "metadata": {
    "collapsed": false,
    "pycharm": {
     "name": "#%%\n"
    }
   }
  },
  {
   "cell_type": "code",
   "execution_count": null,
   "outputs": [],
   "source": [
    "totalgames = pd.DataFrame({\"Total games: \" : data['G'], \"Total Points (* 100 pts)\" : totalpoints})\n",
    "ax = totalgames.sort_values(by='Total Points (* 100 pts)', ascending=False).head(10).plot(title='Total points to games played, sorted by points',stacked=False, kind='bar', figsize=(18, 4), rot='vertical')"
   ],
   "metadata": {
    "collapsed": false,
    "pycharm": {
     "name": "#%%\n"
    }
   }
  }
 ],
 "metadata": {
  "colab": {
   "collapsed_sections": [],
   "name": "assignment1_TEMPLATE.ipynb",
   "provenance": [],
   "toc_visible": true
  },
  "kernelspec": {
   "display_name": "Python 3",
   "language": "python",
   "name": "python3"
  },
  "language_info": {
   "codemirror_mode": {
    "name": "ipython",
    "version": 3
   },
   "file_extension": ".py",
   "mimetype": "text/x-python",
   "name": "python",
   "nbconvert_exporter": "python",
   "pygments_lexer": "ipython3",
   "version": "3.8.5"
  }
 },
 "nbformat": 4,
 "nbformat_minor": 1
}